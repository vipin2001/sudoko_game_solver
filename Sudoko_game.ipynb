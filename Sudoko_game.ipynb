{
 "cells": [
  {
   "cell_type": "code",
   "execution_count": 5,
   "metadata": {},
   "outputs": [],
   "source": [
    "import numpy as np "
   ]
  },
  {
   "cell_type": "code",
   "execution_count": 59,
   "metadata": {},
   "outputs": [],
   "source": [
    "def valid(sdm,num,i,j):\n",
    "    #Row Check and Column Checj\n",
    "    for k in range(9):\n",
    "        #row\n",
    "        if sdm[i][k]==num:\n",
    "            return False\n",
    "        #col\n",
    "        if sdm[k][j]==num:\n",
    "            return False\n",
    "    i=i//3\n",
    "    j=j//3\n",
    "    for k in range(3):\n",
    "        for l in range(3):\n",
    "            if sdm[k+3*i][l+j*3]==num:\n",
    "                return False\n",
    "    return True"
   ]
  },
  {
   "cell_type": "code",
   "execution_count": 60,
   "metadata": {},
   "outputs": [],
   "source": [
    "def total_sum(sdm):\n",
    "    return np.sum(sdm)"
   ]
  },
  {
   "cell_type": "code",
   "execution_count": 182,
   "metadata": {},
   "outputs": [],
   "source": [
    "def solver(sdm):\n",
    "    for i in range(9):\n",
    "        for j in range(9):\n",
    "            if sdm[i][j]==0:\n",
    "                for num in range(1,10):\n",
    "                    if valid(sdm,num,i,j):\n",
    "                        sdm[i][j]=num\n",
    "                        if total_sum(sdm)==405:\n",
    "                            return sdm\n",
    "                        sdm=solver(sdm)\n",
    "                        if total_sum(sdm)==405:\n",
    "                            return sdm\n",
    "                    \n",
    "                    if num==9:\n",
    "                        sdm[i][j]=0\n",
    "                        return sdm\n",
    "                                    "
   ]
  },
  {
   "cell_type": "code",
   "execution_count": 183,
   "metadata": {},
   "outputs": [],
   "source": [
    "sudoko = np.array([[5,3,0,0,7,0,0,0,0],[6,0,0,1,9,5,0,0,0],[0,9,8,0,0,0,0,6,0],[8,0,0,0,6,0,0,0,3],[4,0,0,8,0,3,0,0,1],[7,0,0,0,2,0,0,0,6],[0,6,0,0,0,0,2,8,0],[0,0,0,4,1,9,0,0,5],[0,0,0,0,8,0,0,7,9]])"
   ]
  },
  {
   "cell_type": "code",
   "execution_count": 184,
   "metadata": {},
   "outputs": [],
   "source": [
    "sudoko_1 = np.zeros((9,9))"
   ]
  },
  {
   "cell_type": "code",
   "execution_count": 185,
   "metadata": {},
   "outputs": [],
   "source": [
    "solved_sudoko=solver(sudoko)"
   ]
  },
  {
   "cell_type": "code",
   "execution_count": 186,
   "metadata": {},
   "outputs": [
    {
     "name": "stdout",
     "output_type": "stream",
     "text": [
      "[[5 3 4 6 7 8 9 1 2]\n",
      " [6 7 2 1 9 5 3 4 8]\n",
      " [1 9 8 3 4 2 5 6 7]\n",
      " [8 5 9 7 6 1 4 2 3]\n",
      " [4 2 6 8 5 3 7 9 1]\n",
      " [7 1 3 9 2 4 8 5 6]\n",
      " [9 6 1 5 3 7 2 8 4]\n",
      " [2 8 7 4 1 9 6 3 5]\n",
      " [3 4 5 2 8 6 1 7 9]]\n"
     ]
    }
   ],
   "source": [
    "if np.sum(np.array(solved_sudoko))==405:\n",
    "    print(solved_sudoko)\n",
    "else:\n",
    "    print(\"No soln exist\")"
   ]
  },
  {
   "cell_type": "code",
   "execution_count": null,
   "metadata": {},
   "outputs": [],
   "source": []
  },
  {
   "cell_type": "code",
   "execution_count": null,
   "metadata": {},
   "outputs": [],
   "source": []
  }
 ],
 "metadata": {
  "kernelspec": {
   "display_name": "Python 3",
   "language": "python",
   "name": "python3"
  },
  "language_info": {
   "codemirror_mode": {
    "name": "ipython",
    "version": 3
   },
   "file_extension": ".py",
   "mimetype": "text/x-python",
   "name": "python",
   "nbconvert_exporter": "python",
   "pygments_lexer": "ipython3",
   "version": "3.8.3"
  }
 },
 "nbformat": 4,
 "nbformat_minor": 4
}
